{
  "nbformat": 4,
  "nbformat_minor": 0,
  "metadata": {
    "colab": {
      "provenance": []
    },
    "kernelspec": {
      "name": "python3",
      "display_name": "Python 3"
    },
    "language_info": {
      "name": "python"
    }
  },
  "cells": [
    {
      "cell_type": "code",
      "source": [
        "import numpy as np\n",
        "\n",
        "def FK_PoE(q, a, rot, jt, M):\n",
        "    T = POE(q, a, rot, jt)\n",
        "    Tf = np.dot(T, M)\n",
        "    R = Tf[:3, :3]\n",
        "    p = Tf[:3, 3]\n",
        "    return R, p, Tf\n",
        "\n",
        "def POE(q, a, rot, jt):\n",
        "    T = np.eye(4)\n",
        "    n = len(q)\n",
        "    for i in reversed(range(n)):\n",
        "        if jt[i] == 'R':\n",
        "            rot_hat = np.array([[0, -rot[i, 2], rot[i, 1]],\n",
        "                                [rot[i, 2], 0, -rot[i, 0]],\n",
        "                                [-rot[i, 1], rot[i, 0], 0]])\n",
        "            e_rot_hat = np.eye(3) + rot_hat * np.sin(q[i]) + np.dot(rot_hat, rot_hat) * (1 - np.cos(q[i]))\n",
        "        elif jt[i] == 'P':\n",
        "            rot_hat = np.zeros((3, 3))\n",
        "            e_rot_hat = np.eye(3)\n",
        "        if jt[i] == 'R' and i > 0:\n",
        "            Sv = -np.cross(rot[i, :], a[i, :]).T\n",
        "        elif jt[i] == 'R' and i == 0:\n",
        "            Sv = np.array([0, 0, 0])\n",
        "        elif jt[i] == 'P':\n",
        "            Sv = a[i, :].T\n",
        "        p = (np.eye(3) * q[i] + (1 - np.cos(q[i])) * rot_hat + (q[i] - np.sin(q[i])) * np.dot(rot_hat, rot_hat)) @ Sv\n",
        "        e_zai = np.vstack((np.hstack((e_rot_hat, p.reshape(3, 1))), [0, 0, 0, 1]))\n",
        "        T = np.dot(e_zai, T)\n",
        "    return T\n",
        "\n",
        "# Define joint variables with specified values\n",
        "t1 = 0\n",
        "t2 = 0\n",
        "t3 = -np.pi / 2\n",
        "t4 = np.pi / 2\n",
        "t5 = 0\n",
        "t6 = 0\n",
        "theta = np.array([t1, t2, t3, t4, t5, t6])\n",
        "\n",
        "# Define other parameters\n",
        "W1 = 109 / 1000\n",
        "W2 = 82 / 1000\n",
        "L1 = 425 / 1000\n",
        "L2 = 392 / 1000\n",
        "H1 = 89 / 1000\n",
        "H2 = 95 / 1000\n",
        "\n",
        "a = np.array([[0, 0, 0], [0, 0, H1], [-L1, 0, H1], [-L1 - L2, 0, H1], [-L1 - L2, -W1, 0], [-L1 - L2, 0, H1 - H2]])\n",
        "rot = np.array([[0, 0, 1], [0, -1, 0], [0, -1, 0], [0, -1, 0], [0, 0, -1], [0, -1, 0]])\n",
        "jt = 'RRRRRR'\n",
        "M = np.array([[1, 0, 0, -L1 - L2], [0, 0, -1, -W1 - W2], [0, 1, 0, H1 - H2], [0, 0, 0, 1]])\n",
        "\n",
        "# Calculate forward kinematics\n",
        "R, p, Tf = FK_PoE(theta, a, rot, jt, M)\n",
        "\n",
        "# Output the transformation matrix (pose of end-effector in base frame)\n",
        "print(\"Transformation Matrix Tf:\")\n",
        "print(Tf)\n"
      ],
      "metadata": {
        "colab": {
          "base_uri": "https://localhost:8080/"
        },
        "id": "degYIFjTnLMt",
        "outputId": "1bb8a7dd-36df-435e-b1f8-4c5daf902444"
      },
      "execution_count": 9,
      "outputs": [
        {
          "output_type": "stream",
          "name": "stdout",
          "text": [
            "Transformation Matrix Tf:\n",
            "[[ 1.     0.     0.    -0.425]\n",
            " [ 0.     0.    -1.    -0.191]\n",
            " [ 0.     1.     0.     0.386]\n",
            " [ 0.     0.     0.     1.   ]]\n"
          ]
        }
      ]
    }
  ]
}