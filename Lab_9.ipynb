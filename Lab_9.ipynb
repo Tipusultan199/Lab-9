{
  "nbformat": 4,
  "nbformat_minor": 0,
  "metadata": {
    "colab": {
      "provenance": []
    },
    "kernelspec": {
      "name": "python3",
      "display_name": "Python 3"
    },
    "language_info": {
      "name": "python"
    }
  },
  "cells": [
    {
      "cell_type": "code",
      "execution_count": 2,
      "metadata": {
        "colab": {
          "base_uri": "https://localhost:8080/"
        },
        "id": "6_GIuqlDKAIu",
        "outputId": "0d10282a-e072-4e87-8da1-0cf82b54ce4e"
      },
      "outputs": [
        {
          "output_type": "stream",
          "name": "stdout",
          "text": [
            "Rotation Matrix (R):\n",
            " [[ 0.  1. -0.]\n",
            " [-1.  0. -0.]\n",
            " [-0.  0.  1.]]\n",
            "Position Vector (p):\n",
            " [-0.095 -0.109  0.988]\n"
          ]
        }
      ],
      "source": [
        "import numpy as np\n",
        "\n",
        "np.set_printoptions(suppress=True)\n",
        "def FK_PoE(q, a, rot, jt, M):\n",
        "\n",
        "    T = POE(q, a, rot, jt)\n",
        "    Tf = np.dot(T, M)\n",
        "\n",
        "    R = Tf[:3, :3]\n",
        "    p = Tf[:3, 3]\n",
        "    return R, p\n",
        "\n",
        "def POE(q, a, rot, jt):\n",
        "\n",
        "    T = np.eye(4)\n",
        "    n = len(q)\n",
        "\n",
        "    for ii in range(n - 1, -1, -1):\n",
        "        if jt[ii] == 'R':\n",
        "            rot_hat = np.array([\n",
        "                [0, -rot[ii, 2], rot[ii, 1]],\n",
        "                [rot[ii, 2], 0, -rot[ii, 0]],\n",
        "                [-rot[ii, 1], rot[ii, 0], 0]\n",
        "            ])\n",
        "            e_rot_hat = np.eye(3) + rot_hat * np.sin(q[ii]) + np.dot(rot_hat, rot_hat) * (1 - np.cos(q[ii]))\n",
        "        elif jt[ii] == 'P':\n",
        "            rot_hat = np.zeros((3, 3))\n",
        "            e_rot_hat = np.eye(3)\n",
        "\n",
        "        if jt[ii] == 'R' and ii > 0:\n",
        "            Sv = -np.cross(rot[ii, :], a[ii, :])\n",
        "        elif jt[ii] == 'R' and ii == 0:\n",
        "            Sv = np.array([0, 0, 0])\n",
        "        elif jt[ii] == 'P':\n",
        "            Sv = a[ii, :]\n",
        "\n",
        "        p = (np.eye(3) * q[ii] + (1 - np.cos(q[ii])) * rot_hat +\n",
        "             (q[ii] - np.sin(q[ii])) * np.dot(rot_hat, rot_hat)).dot(Sv)\n",
        "\n",
        "        e_zai = np.block([\n",
        "            [e_rot_hat, p.reshape(3, 1)],\n",
        "            [np.zeros((1, 3)), 1]\n",
        "        ])\n",
        "\n",
        "        T = np.dot(e_zai, T)\n",
        "\n",
        "    return T\n",
        "\n",
        "# Example inputs\n",
        "t1 = 0\n",
        "t2 = -np.pi / 2\n",
        "t3 = 0\n",
        "t4 = 0\n",
        "t5 = np.pi / 2\n",
        "t6 = 0\n",
        "theta = np.array([t1, t2, t3, t4, t5, t6])\n",
        "\n",
        "W1 = 109 / 1000\n",
        "W2 = 82 / 1000\n",
        "L1 = 425 / 1000\n",
        "L2 = 392 / 1000\n",
        "H1 = 89 / 1000\n",
        "H2 = 95 / 1000\n",
        "\n",
        "a = np.array([[0, 0, 0], [0, 0, H1], [-L1, 0, H1], [-L1 - L2, 0, H1],\n",
        "              [-L1 - L2, -W1, 0], [-L1 - L2, 0, H1 - H2]])\n",
        "rot = np.array([[0, 0, 1], [0, -1, 0], [0, -1, 0], [0, -1, 0], [0, 0, -1], [0, -1, 0]])\n",
        "jt = 'RRRRRR'\n",
        "M = np.array([[1, 0, 0, -L1 - L2],\n",
        "              [0, 0, -1, -W1 - W2],\n",
        "              [0, 1, 0, H1 - H2],\n",
        "              [0, 0, 0, 1]])\n",
        "\n",
        "# Calculate forward kinematics\n",
        "R, p = FK_PoE(theta, a, rot, jt, M)\n",
        "\n",
        "\n",
        "print(\"Rotation Matrix (R):\\n\", R)\n",
        "print(\"Position Vector (p):\\n\", p)\n"
      ]
    }
  ]
}