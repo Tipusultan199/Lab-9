{
  "nbformat": 4,
  "nbformat_minor": 0,
  "metadata": {
    "colab": {
      "provenance": []
    },
    "kernelspec": {
      "name": "python3",
      "display_name": "Python 3"
    },
    "language_info": {
      "name": "python"
    }
  },
  "cells": [
    {
      "cell_type": "code",
      "execution_count": 2,
      "metadata": {
        "colab": {
          "base_uri": "https://localhost:8080/"
        },
        "id": "6_GIuqlDKAIu",
        "outputId": "0d10282a-e072-4e87-8da1-0cf82b54ce4e"
      },
      "outputs": [
        {
          "output_type": "stream",
          "name": "stdout",
          "text": [
            "Rotation Matrix (R):\n",
            " [[ 0.  1. -0.]\n",
            " [-1.  0. -0.]\n",
            " [-0.  0.  1.]]\n",
            "Position Vector (p):\n",
            " [-0.095 -0.109  0.988]\n"
          ]
        }
      ],
      "source": [
        "import numpy as np\n",
        "\n",
        "np.set_printoptions(suppress=True)\n",
        "def FK_PoE(q, a, rot, jt, M):\n",
        "\n",
        "    T = POE(q, a, rot, jt)\n",
        "    Tf = np.dot(T, M)\n",
        "\n",
        "    R = Tf[:3, :3]\n",
        "    p = Tf[:3, 3]\n",
        "    return R, p\n",
        "\n",
        "def POE(q, a, rot, jt):\n",
        "\n",
        "    T = np.eye(4)\n",
        "    n = len(q)\n",
        "\n",
        "    for ii in range(n - 1, -1, -1):\n",
        "        if jt[ii] == 'R':\n",
        "            rot_hat = np.array([\n",
        "                [0, -rot[ii, 2], rot[ii, 1]],\n",
        "                [rot[ii, 2], 0, -rot[ii, 0]],\n",
        "                [-rot[ii, 1], rot[ii, 0], 0]\n",
        "            ])\n",
        "            e_rot_hat = np.eye(3) + rot_hat * np.sin(q[ii]) + np.dot(rot_hat, rot_hat) * (1 - np.cos(q[ii]))\n",
        "        elif jt[ii] == 'P':\n",
        "            rot_hat = np.zeros((3, 3))\n",
        "            e_rot_hat = np.eye(3)\n",
        "\n",
        "        if jt[ii] == 'R' and ii > 0:\n",
        "            Sv = -np.cross(rot[ii, :], a[ii, :])\n",
        "        elif jt[ii] == 'R' and ii == 0:\n",
        "            Sv = np.array([0, 0, 0])\n",
        "        elif jt[ii] == 'P':\n",
        "            Sv = a[ii, :]\n",
        "\n",
        "        p = (np.eye(3) * q[ii] + (1 - np.cos(q[ii])) * rot_hat +\n",
        "             (q[ii] - np.sin(q[ii])) * np.dot(rot_hat, rot_hat)).dot(Sv)\n",
        "\n",
        "        e_zai = np.block([\n",
        "            [e_rot_hat, p.reshape(3, 1)],\n",
        "            [np.zeros((1, 3)), 1]\n",
        "        ])\n",
        "\n",
        "        T = np.dot(e_zai, T)\n",
        "\n",
        "    return T\n",
        "\n",
        "# Example inputs\n",
        "t1 = 0\n",
        "t2 = -np.pi / 2\n",
        "t3 = 0\n",
        "t4 = 0\n",
        "t5 = np.pi / 2\n",
        "t6 = 0\n",
        "theta = np.array([t1, t2, t3, t4, t5, t6])\n",
        "\n",
        "W1 = 109 / 1000\n",
        "W2 = 82 / 1000\n",
        "L1 = 425 / 1000\n",
        "L2 = 392 / 1000\n",
        "H1 = 89 / 1000\n",
        "H2 = 95 / 1000\n",
        "\n",
        "a = np.array([[0, 0, 0], [0, 0, H1], [-L1, 0, H1], [-L1 - L2, 0, H1],\n",
        "              [-L1 - L2, -W1, 0], [-L1 - L2, 0, H1 - H2]])\n",
        "rot = np.array([[0, 0, 1], [0, -1, 0], [0, -1, 0], [0, -1, 0], [0, 0, -1], [0, -1, 0]])\n",
        "jt = 'RRRRRR'\n",
        "M = np.array([[1, 0, 0, -L1 - L2],\n",
        "              [0, 0, -1, -W1 - W2],\n",
        "              [0, 1, 0, H1 - H2],\n",
        "              [0, 0, 0, 1]])\n",
        "\n",
        "# Calculate forward kinematics\n",
        "R, p = FK_PoE(theta, a, rot, jt, M)\n",
        "\n",
        "\n",
        "print(\"Rotation Matrix (R):\\n\", R)\n",
        "print(\"Position Vector (p):\\n\", p)\n"
      ]
    },
    {
      "cell_type": "code",
      "source": [
        "# Updated joint angles (converted to radians)\n",
        "theta = np.array([\n",
        "    0,                   # θ1 = 0°\n",
        "    0,                   # θ2 = 0°\n",
        "    -np.pi / 2,          # θ3 = -90°\n",
        "    np.pi / 2,           # θ4 = 90°\n",
        "    0,                   # θ5 = 0°\n",
        "    0                    # θ6 = 0°\n",
        "])\n",
        "\n",
        "\n",
        "R, p = FK_PoE(theta, a, rot, jt, M)\n",
        "\n",
        "Tf = np.block([\n",
        "    [R, p.reshape(3, 1)],\n",
        "    [np.zeros((1, 3)), 1]\n",
        "])\n",
        "\n",
        "print(\"Transformation Matrix (Tf):\\n\", Tf)\n"
      ],
      "metadata": {
        "colab": {
          "base_uri": "https://localhost:8080/"
        },
        "id": "fAxFEWL0PgDZ",
        "outputId": "82e42458-f2ba-4cc3-e4a8-0cafee4609d9"
      },
      "execution_count": 4,
      "outputs": [
        {
          "output_type": "stream",
          "name": "stdout",
          "text": [
            "Transformation Matrix (Tf):\n",
            " [[ 1.     0.     0.    -0.425]\n",
            " [ 0.     0.    -1.    -0.191]\n",
            " [ 0.     1.     0.     0.386]\n",
            " [ 0.     0.     0.     1.   ]]\n"
          ]
        }
      ]
    },
    {
      "cell_type": "code",
      "source": [],
      "metadata": {
        "id": "QENXO0vwb7Om"
      },
      "execution_count": null,
      "outputs": []
    },
    {
      "cell_type": "markdown",
      "source": [
        "Now, attach the physical robot, first go to the home pose, and from there put the robot in the above configuration (set the joint values to the above given values). Physically show that the transformation matrix that you calculated is the same as the physical robot's end effector's position and orientation"
      ],
      "metadata": {
        "id": "sWMl6tWtb-eO"
      }
    },
    {
      "cell_type": "code",
      "source": [
        "# Joint Control Example\n",
        "from interbotix_xs_modules.xs_robot.arm import InterbotixManipulatorXS\n",
        "import numpy as np\n",
        "\n",
        "def main():\n",
        "    joint_positions = [\n",
        "        0,\n",
        "        np.radians(0),\n",
        "        np.radians(-90),\n",
        "        np.radians(90)\n",
        "    ]\n",
        "\n",
        "    bot = InterbotixManipulatorXS(robot_model='px100', group_name='arm', grippe>\n",
        "    bot.arm.go_to_home_pose()\n",
        "    bot.arm.set_joint_positions(joint_positions)\n",
        "    bot.shutdown()\n",
        "\n",
        "if __name__ == '__main__':\n",
        "    main()\n",
        "\n"
      ],
      "metadata": {
        "id": "IPgOxokQb6-i"
      },
      "execution_count": null,
      "outputs": []
    },
    {
      "cell_type": "markdown",
      "source": [
        "Choose another set of angles (pay attention to the joint limits of the robot) and verify that your calculation is the same as the physical position and orientation of the robot"
      ],
      "metadata": {
        "id": "x638E2_-gwR0"
      }
    },
    {
      "cell_type": "code",
      "source": [
        "# Joint Control Example\n",
        "from interbotix_xs_modules.xs_robot.arm import InterbotixManipulatorXS\n",
        "import numpy as np\n",
        "\n",
        "def main():\n",
        "    joint_positions = [\n",
        "        0,\n",
        "        np.radians(90),\n",
        "        np.radians(-90),\n",
        "        np.radians(0)\n",
        "    ]\n",
        "\n",
        "    bot = InterbotixManipulatorXS(robot_model='px100', group_name='arm', grippe>\n",
        "    bot.arm.go_to_home_pose()\n",
        "    bot.arm.set_joint_positions(joint_positions)\n",
        "    bot.shutdown()\n",
        "\n",
        "if __name__ == '__main__':\n",
        "    main()\n",
        "\n"
      ],
      "metadata": {
        "id": "4M0PD9t0gvEo"
      },
      "execution_count": null,
      "outputs": []
    }
  ]
}