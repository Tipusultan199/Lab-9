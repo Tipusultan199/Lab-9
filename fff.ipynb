{
  "nbformat": 4,
  "nbformat_minor": 0,
  "metadata": {
    "colab": {
      "provenance": []
    },
    "kernelspec": {
      "name": "python3",
      "display_name": "Python 3"
    },
    "language_info": {
      "name": "python"
    }
  },
  "cells": [
    {
      "cell_type": "code",
      "execution_count": 4,
      "metadata": {
        "colab": {
          "base_uri": "https://localhost:8080/"
        },
        "id": "Iedg5L8_VOdz",
        "outputId": "d5126d50-4789-4d30-c336-52fbcf4e402a"
      },
      "outputs": [
        {
          "output_type": "stream",
          "name": "stdout",
          "text": [
            "R =\n",
            "[[1. 0. 0.]\n",
            " [0. 1. 0.]\n",
            " [0. 0. 1.]]\n",
            "\n",
            "p =\n",
            "[142.6     0.    244.725]\n"
          ]
        }
      ],
      "source": [
        "import numpy as np\n",
        "\n",
        "\n",
        "t1 = 0\n",
        "t2 = 0\n",
        "t3 = -np.pi / 2\n",
        "t4 = np.pi / 2\n",
        "theta = [t1, t2, t3, t4]\n",
        "\n",
        "a = [0, 0, 0, 44.725, 35, 0, 144.725, 135, 0, 144.725]\n",
        "rot = [[0, 0, 1, 0], [1, 0, 0, 0], [1, 0, 0, 1, 0]]\n",
        "\n",
        "jt = \"RRRR\"\n",
        "\n",
        "M = np.array([[1, 0, 0, 142.6],\n",
        "              [0, 1, 0, 0],\n",
        "              [0, 0, 1, 244.725],\n",
        "              [0, 0, 0, 1]])\n",
        "\n",
        "def Pose(theta, a, rot, jt, M):\n",
        "    R = M[:3, :3]\n",
        "    p = M[:3, 3]\n",
        "    return R, p\n",
        "\n",
        "R, p = Pose(theta, a, rot, jt, M)\n",
        "print(\"R =\")\n",
        "print(R)\n",
        "print(\"\\np =\")\n",
        "print(p)\n"
      ]
    }
  ]
}