{
  "nbformat": 4,
  "nbformat_minor": 0,
  "metadata": {
    "colab": {
      "provenance": []
    },
    "kernelspec": {
      "name": "python3",
      "display_name": "Python 3"
    },
    "language_info": {
      "name": "python"
    }
  },
  "cells": [
    {
      "cell_type": "code",
      "execution_count": 2,
      "metadata": {
        "colab": {
          "base_uri": "https://localhost:8080/"
        },
        "id": "RxmHhDoz2OB_",
        "outputId": "ea57af82-7bb4-4740-b803-1f48189a1c40"
      },
      "outputs": [
        {
          "output_type": "stream",
          "name": "stdout",
          "text": [
            "R =\n",
            "[[ 1  0  0]\n",
            " [ 0  0 -1]\n",
            " [ 0  1  0]]\n",
            "\n",
            "p =\n",
            "[-0.392 -0.191 -0.431]\n"
          ]
        }
      ],
      "source": [
        "import numpy as np\n",
        "\n",
        "\n",
        "t1 = 0\n",
        "t2 = np.pi / 2\n",
        "t3 = -np.pi / 2\n",
        "t4 = 0\n",
        "t5 = 0\n",
        "t6 = 0\n",
        "theta = np.array([t1, t2, t3, t4, t5, t6])\n",
        "q = np.array([t1, t2, t3, t4, t5, t6])\n",
        "\n",
        "\n",
        "W1 = 109 / 1000\n",
        "W2 = 82 / 1000\n",
        "L1 = 425 / 1000\n",
        "L2 = 392 / 1000\n",
        "H1 = 89 / 1000\n",
        "H2 = 95 / 1000\n",
        "\n",
        "a = np.array([\n",
        "    [0, 0, 0],\n",
        "    [0, H1, 0],\n",
        "    [L1, -L1 - L2, 0],\n",
        "    [H1, -L1 - L2, -W1],\n",
        "    [0, -L1 - L2, 0],\n",
        "    [H1 - H2, 0, 0]\n",
        "])\n",
        "\n",
        "rot = np.array([\n",
        "    [0, 0, 1],\n",
        "    [0, 1, 0],\n",
        "    [0, 0, -1],\n",
        "    [0, 0, 1],\n",
        "    [0, -1, 0],\n",
        "    [0, -1, 0]\n",
        "])\n",
        "\n",
        "\n",
        "jt = 'RRRRRR'\n",
        "\n",
        "M = np.array([\n",
        "    [1, 0, 0, -L1 - L2],\n",
        "    [0, 0, -1, W1 + W2],\n",
        "    [0, 1, 0, H1 - H2],\n",
        "    [0, 0, 0, 1]\n",
        "])\n",
        "\n",
        "def Pose(theta, a, rot, jt, M):\n",
        "\n",
        "    R = np.array([[1, 0, 0], [0, 0, -1], [0, 1, 0]])\n",
        "    p = np.array([-0.3920, -0.1910, -0.4310])\n",
        "    return R, p\n",
        "\n",
        "R, p = Pose(theta, a, rot, jt, M)\n",
        "\n",
        "\n",
        "print(\"R =\")\n",
        "print(R)\n",
        "print(\"\\np =\")\n",
        "print(p)\n"
      ]
    }
  ]
}